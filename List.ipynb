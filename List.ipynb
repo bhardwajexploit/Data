{
 "cells": [
  {
   "cell_type": "markdown",
   "metadata": {},
   "source": [
    "## data structure\n",
    "-list (**important**)\n",
    "(indexed,ordered,mutable,[]) ** IT  has  11 funcations**\n",
    "\n",
    "-tuple \n",
    " indexed ,ordered,**immutable**,()\n",
    "\n",
    "-set(**important**)\n",
    "(un-indexed,unordered,mutable,no-duplicated,{})\n",
    "\n",
    "-dicitionary (**important**)\n",
    "(**un-indexed**,**key-value pairs** ,mutable,{})"
   ]
  },
  {
   "cell_type": "code",
   "execution_count": 5,
   "metadata": {},
   "outputs": [
    {
     "name": "stdout",
     "output_type": "stream",
     "text": [
      "([1, 2, 3, 4], [4, 5, 6], [34])\n",
      "[1, 1, 1, 1, 1, 1, 1, 1, 1, 1, 1, 1, 1, 1, 1, 1, 1, 1, 1, 1, 1, 1, 1, 1, 1]\n"
     ]
    }
   ],
   "source": [
    "#list\n",
    "x=[]#empty list\n",
    "y=['milk',30,'bread',50]\n",
    "xn=[1,2,3,4],[4,5,6],[34]#nested list\n",
    "print(xn)\n",
    "#list with 25 elements with value given to user\n",
    "xy=[1]*25\n",
    "print(xy)\n"
   ]
  },
  {
   "cell_type": "code",
   "execution_count": 9,
   "metadata": {},
   "outputs": [
    {
     "name": "stdout",
     "output_type": "stream",
     "text": [
      "['10']\n",
      "['10', '12']\n",
      "['10', '12', '13']\n"
     ]
    }
   ],
   "source": [
    "\n",
    "kk=[]\n",
    "for i in range(3):\n",
    "    x=(input(\"enter\"))\n",
    "    kk.append(x)\n",
    "    print(kk)\n"
   ]
  },
  {
   "cell_type": "code",
   "execution_count": 10,
   "metadata": {},
   "outputs": [
    {
     "name": "stdout",
     "output_type": "stream",
     "text": [
      "10\n",
      "['10', '12']\n",
      "['10', '12', '13']\n",
      "31\n"
     ]
    }
   ],
   "source": [
    "#slicing AND indexing\n",
    "print(kk[0])\n",
    "print(kk[:2])\n",
    "print(kk[-3:])\n",
    "print(x[::-1])"
   ]
  },
  {
   "cell_type": "code",
   "execution_count": null,
   "metadata": {},
   "outputs": [],
   "source": [
    "# List functions() total 11\n",
    "# -add\n",
    "# (append(),insert(),extend())\n",
    "\n",
    "# -remove\n",
    "# (remove() ,pop(),clear())\n",
    "\n",
    "# -utility\n",
    "#   index()\n",
    "# -count()\n",
    "# sort()\n",
    "# reverse()\n",
    "# copy()\n"
   ]
  }
 ],
 "metadata": {
  "kernelspec": {
   "display_name": "base",
   "language": "python",
   "name": "python3"
  },
  "language_info": {
   "name": "python",
   "version": "3.10.10"
  },
  "orig_nbformat": 4
 },
 "nbformat": 4,
 "nbformat_minor": 2
}
