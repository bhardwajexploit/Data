{
 "cells": [
  {
   "cell_type": "code",
   "execution_count": null,
   "metadata": {},
   "outputs": [],
   "source": [
    " #bult in funC() in py \n",
    "# Read online\n",
    "# SUM\n",
    "X=[2,3,4,5,6,7,8,8,9]\n",
    "print(sum(X))\n",
    "# reversed\n",
    "print(list(reversed(X))) \n",
    "#min max\n",
    "print(min(X),max(X))\n",
    "print(sorted(X))"
   ]
  }
 ],
 "metadata": {
  "kernelspec": {
   "display_name": "base",
   "language": "python",
   "name": "python3"
  },
  "language_info": {
   "codemirror_mode": {
    "name": "ipython",
    "version": 3
   },
   "file_extension": ".py",
   "mimetype": "text/x-python",
   "name": "python",
   "nbconvert_exporter": "python",
   "pygments_lexer": "ipython3",
   "version": "3.10.10"
  },
  "orig_nbformat": 4
 },
 "nbformat": 4,
 "nbformat_minor": 2
}
