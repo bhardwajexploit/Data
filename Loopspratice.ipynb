{
 "cells": [
  {
   "cell_type": "code",
   "execution_count": 2,
   "metadata": {},
   "outputs": [
    {
     "name": "stdout",
     "output_type": "stream",
     "text": [
      "1\n",
      "2\n",
      "3\n",
      "4\n",
      "5\n",
      "6\n",
      "7\n",
      "8\n",
      "9\n",
      "10\n"
     ]
    }
   ],
   "source": [
    "#Write a program to print numbers from 1 to 10 using a for loop.\n",
    "i=1\n",
    "for i in range(1,11):\n",
    "    print(i)"
   ]
  },
  {
   "cell_type": "code",
   "execution_count": 13,
   "metadata": {},
   "outputs": [
    {
     "name": "stdout",
     "output_type": "stream",
     "text": [
      "larges is 64 and smallest is 11\n"
     ]
    }
   ],
   "source": [
    "#Write a program to find the largest and smallest elements in an array using a for loop.\n",
    "Num=[11,12,32,54,45,64]\n",
    "lg=len(Num)\n",
    "lar=Num[0]\n",
    "small=Num[0]\n",
    "for i in range(1,lg):\n",
    "    if(Num[i]> lar):\n",
    "        lar=Num[i]\n",
    "    elif(Num[i] < small):\n",
    "        small=Num[i]\n",
    "    \n",
    "print(f\"largest is {lar} and smallest is {small}\")\n",
    "        \n",
    "\n"
   ]
  },
  {
   "cell_type": "code",
   "execution_count": 29,
   "metadata": {},
   "outputs": [
    {
     "name": "stdout",
     "output_type": "stream",
     "text": [
      " 2 * 1 =  2\n",
      " 2 * 2 =  4\n",
      " 2 * 3 =  6\n",
      " 2 * 4 =  8\n",
      " 2 * 5 = 10\n",
      " 2 * 6 = 12\n",
      " 2 * 7 = 14\n",
      " 2 * 8 = 16\n",
      " 2 * 9 = 18\n",
      " 2 * 10 = 20\n"
     ]
    }
   ],
   "source": [
    "#Write a program to print the multiplication table of a given number using a while loop.\n",
    "Numb=int(input(\"enter an integer\"))\n",
    "\n",
    "i=1\n",
    "for i in range(1,11):\n",
    "    result=Numb * i\n",
    "    print(f'{Numb:2} * {i} = {result:>2}')"
   ]
  },
  {
   "cell_type": "code",
   "execution_count": 44,
   "metadata": {},
   "outputs": [
    {
     "name": "stdout",
     "output_type": "stream",
     "text": [
      " number of vowels in string ar 5\n"
     ]
    }
   ],
   "source": [
    "# Write a program to count the number of vowels in a given string using a for loop.\n",
    "\n",
    "st=\"Digipodium\"\n",
    "\n",
    "count=0\n",
    "for i in st:\n",
    "    if(i.lower() in 'aeiou'): \n",
    "        count+=1\n",
    "print(f\" number of vowels in string are {count}\")       "
   ]
  },
  {
   "cell_type": "code",
   "execution_count": null,
   "metadata": {},
   "outputs": [],
   "source": [
    "# Write a program to calculate the factorial of a number using a for loop.\n",
    "num=int(input(\"enter a number\"))\n",
    "fact=1\n",
    "for i in range(1,num+1):\n",
    "    fact=fact*i\n",
    "print(fact)\n"
   ]
  },
  {
   "cell_type": "code",
   "execution_count": 40,
   "metadata": {},
   "outputs": [
    {
     "name": "stdout",
     "output_type": "stream",
     "text": [
      "[65, 66, 67, 68, 69, 70, 71, 72, 73, 74, 75, 76, 77, 78, 79, 80, 81, 82, 83, 84, 85, 86, 87, 88, 89, 90]\n",
      "65\n"
     ]
    }
   ],
   "source": [
    "\n",
    "# Write a program to print the ASCII values of all uppercase letters using a for loop.\n",
    "ch=[]\n",
    "for i in range(ord('a'),ord(\"z\")+1):#using ord function to change\n",
    "    c=chr(i).upper()\n",
    "    ch.append(ord(c))\n",
    "print(ch)\n",
    " \n"
   ]
  },
  {
   "cell_type": "code",
   "execution_count": 30,
   "metadata": {},
   "outputs": [
    {
     "name": "stdout",
     "output_type": "stream",
     "text": [
      "sum is 2550\n"
     ]
    }
   ],
   "source": [
    "# Write a program to find the sum of all even numbers between 1 and 100 using a for loop.\n",
    "result=0\n",
    "for i in range(1,101):\n",
    "    if i%2==0:\n",
    "        result+=i\n",
    "print(f\"sum is {result}\")\n",
    "\n"
   ]
  }
 ],
 "metadata": {
  "kernelspec": {
   "display_name": "base",
   "language": "python",
   "name": "python3"
  },
  "language_info": {
   "codemirror_mode": {
    "name": "ipython",
    "version": 3
   },
   "file_extension": ".py",
   "mimetype": "text/x-python",
   "name": "python",
   "nbconvert_exporter": "python",
   "pygments_lexer": "ipython3",
   "version": "3.10.10"
  },
  "orig_nbformat": 4
 },
 "nbformat": 4,
 "nbformat_minor": 2
}
